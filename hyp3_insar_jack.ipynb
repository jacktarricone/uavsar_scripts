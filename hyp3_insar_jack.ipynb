{
 "cells": [
  {
   "cell_type": "markdown",
   "id": "racial-leisure",
   "metadata": {},
   "source": [
    "# Process an interferogram with ASF HyP3\n",
    "\n",
    "https://hyp3-docs.asf.alaska.edu/using/sdk/ "
   ]
  },
  {
   "cell_type": "markdown",
   "id": "nasty-fluid",
   "metadata": {},
   "source": [
    "## Search for scenes\n",
    "\n",
    "scenes over grand mesa, colorado using https://asf.alaska.edu/api/"
   ]
  },
  {
   "cell_type": "code",
   "execution_count": 17,
   "id": "formal-tactics",
   "metadata": {},
   "outputs": [
    {
     "name": "stdout",
     "output_type": "stream",
     "text": [
      "https://api.daac.asf.alaska.edu/services/search/param?intersectsWith=POLYGON+%28%28-106.304+35.688%2C+-106.304+36.121%2C+-106.566+36.121%2C+-106.566+35.688%2C+-106.304+35.688%29%29&platform=Sentinel-1&processingLevel=SLC&beamMode=IW&output=json&start=2021-02-19T11%3A59%3A59Z&end=2021-03-08T11%3A59%3A59Z\n"
     ]
    }
   ],
   "source": [
    "import requests\n",
    "import shapely.geometry\n",
    "\n",
    "roi = shapely.geometry.box(-106.566,35.688,-106.304,36.121)\n",
    "polygonWKT = roi.wkt\n",
    "\n",
    "baseurl = \"https://api.daac.asf.alaska.edu/services/search/param\"\n",
    "\n",
    "data = dict(\n",
    "    intersectsWith=polygonWKT,\n",
    "    platform='Sentinel-1',\n",
    "    processingLevel=\"SLC\",\n",
    "    beamMode='IW',\n",
    "    output='json',\n",
    "    start='2021-02-19T11:59:59Z',\n",
    "    end='2021-03-08T11:59:59Z',\n",
    "    #relativeOrbit=None,\n",
    "    #flightDirection=None,\n",
    ")\n",
    "\n",
    "r = requests.get(baseurl, params=data, timeout=100)\n",
    "print(r.url)"
   ]
  },
  {
   "cell_type": "code",
   "execution_count": 14,
   "id": "gross-fiction",
   "metadata": {},
   "outputs": [
    {
     "data": {
      "text/html": [
       "<div>\n",
       "<style scoped>\n",
       "    .dataframe tbody tr th:only-of-type {\n",
       "        vertical-align: middle;\n",
       "    }\n",
       "\n",
       "    .dataframe tbody tr th {\n",
       "        vertical-align: top;\n",
       "    }\n",
       "\n",
       "    .dataframe thead th {\n",
       "        text-align: right;\n",
       "    }\n",
       "</style>\n",
       "<table border=\"1\" class=\"dataframe\">\n",
       "  <thead>\n",
       "    <tr style=\"text-align: right;\">\n",
       "      <th></th>\n",
       "      <th>absoluteOrbit</th>\n",
       "      <th>beamMode</th>\n",
       "      <th>beamModeType</th>\n",
       "      <th>beamSwath</th>\n",
       "      <th>browse</th>\n",
       "      <th>catSceneId</th>\n",
       "      <th>centerLat</th>\n",
       "      <th>centerLon</th>\n",
       "      <th>collectionName</th>\n",
       "      <th>configurationName</th>\n",
       "      <th>...</th>\n",
       "      <th>sensor</th>\n",
       "      <th>sizeMB</th>\n",
       "      <th>slaveGranule</th>\n",
       "      <th>startTime</th>\n",
       "      <th>status</th>\n",
       "      <th>stopTime</th>\n",
       "      <th>stringFootprint</th>\n",
       "      <th>thumbnailUrl</th>\n",
       "      <th>track</th>\n",
       "      <th>varianceTroposphere</th>\n",
       "    </tr>\n",
       "  </thead>\n",
       "  <tbody>\n",
       "    <tr>\n",
       "      <th>0</th>\n",
       "      <td>25902</td>\n",
       "      <td>IW</td>\n",
       "      <td>IW</td>\n",
       "      <td>None</td>\n",
       "      <td>None</td>\n",
       "      <td>None</td>\n",
       "      <td>36.4669</td>\n",
       "      <td>-105.6039</td>\n",
       "      <td>None</td>\n",
       "      <td>Interferometric Wide. 250 km swath, 5 m x 20 m...</td>\n",
       "      <td>...</td>\n",
       "      <td>C-SAR</td>\n",
       "      <td>4096.6252155303955</td>\n",
       "      <td>None</td>\n",
       "      <td>2021-03-07T01:00:52.000000</td>\n",
       "      <td>None</td>\n",
       "      <td>2021-03-07T01:01:19.000000</td>\n",
       "      <td>POLYGON((-104.349129 37.469887,-104.021988 35....</td>\n",
       "      <td>None</td>\n",
       "      <td>151</td>\n",
       "      <td>None</td>\n",
       "    </tr>\n",
       "    <tr>\n",
       "      <th>1</th>\n",
       "      <td>36878</td>\n",
       "      <td>IW</td>\n",
       "      <td>IW</td>\n",
       "      <td>None</td>\n",
       "      <td>None</td>\n",
       "      <td>None</td>\n",
       "      <td>35.1212</td>\n",
       "      <td>-107.2677</td>\n",
       "      <td>None</td>\n",
       "      <td>Interferometric Wide. 250 km swath, 5 m x 20 m...</td>\n",
       "      <td>...</td>\n",
       "      <td>C-SAR</td>\n",
       "      <td>3868.169867515564</td>\n",
       "      <td>None</td>\n",
       "      <td>2021-03-06T13:11:03.000000</td>\n",
       "      <td>None</td>\n",
       "      <td>2021-03-06T13:11:30.000000</td>\n",
       "      <td>POLYGON((-108.808792 34.502563,-108.483223 36....</td>\n",
       "      <td>None</td>\n",
       "      <td>56</td>\n",
       "      <td>None</td>\n",
       "    </tr>\n",
       "    <tr>\n",
       "      <th>2</th>\n",
       "      <td>36878</td>\n",
       "      <td>IW</td>\n",
       "      <td>IW</td>\n",
       "      <td>None</td>\n",
       "      <td>None</td>\n",
       "      <td>None</td>\n",
       "      <td>36.6425</td>\n",
       "      <td>-106.9264</td>\n",
       "      <td>None</td>\n",
       "      <td>Interferometric Wide. 250 km swath, 5 m x 20 m...</td>\n",
       "      <td>...</td>\n",
       "      <td>C-SAR</td>\n",
       "      <td>4161.684388160706</td>\n",
       "      <td>None</td>\n",
       "      <td>2021-03-06T13:10:37.000000</td>\n",
       "      <td>None</td>\n",
       "      <td>2021-03-06T13:11:05.000000</td>\n",
       "      <td>POLYGON((-108.504555 35.994625,-108.164185 37....</td>\n",
       "      <td>None</td>\n",
       "      <td>56</td>\n",
       "      <td>None</td>\n",
       "    </tr>\n",
       "    <tr>\n",
       "      <th>3</th>\n",
       "      <td>36805</td>\n",
       "      <td>IW</td>\n",
       "      <td>IW</td>\n",
       "      <td>None</td>\n",
       "      <td>None</td>\n",
       "      <td>None</td>\n",
       "      <td>34.7292</td>\n",
       "      <td>-105.2902</td>\n",
       "      <td>None</td>\n",
       "      <td>Interferometric Wide. 250 km swath, 5 m x 20 m...</td>\n",
       "      <td>...</td>\n",
       "      <td>C-SAR</td>\n",
       "      <td>3746.820252418518</td>\n",
       "      <td>None</td>\n",
       "      <td>2021-03-01T13:02:55.000000</td>\n",
       "      <td>None</td>\n",
       "      <td>2021-03-01T13:03:22.000000</td>\n",
       "      <td>POLYGON((-106.824287 34.111134,-106.499451 35....</td>\n",
       "      <td>None</td>\n",
       "      <td>158</td>\n",
       "      <td>None</td>\n",
       "    </tr>\n",
       "    <tr>\n",
       "      <th>4</th>\n",
       "      <td>36805</td>\n",
       "      <td>IW</td>\n",
       "      <td>IW</td>\n",
       "      <td>None</td>\n",
       "      <td>None</td>\n",
       "      <td>None</td>\n",
       "      <td>36.2521</td>\n",
       "      <td>-104.9638</td>\n",
       "      <td>None</td>\n",
       "      <td>Interferometric Wide. 250 km swath, 5 m x 20 m...</td>\n",
       "      <td>...</td>\n",
       "      <td>C-SAR</td>\n",
       "      <td>4063.6540145874023</td>\n",
       "      <td>None</td>\n",
       "      <td>2021-03-01T13:02:30.000000</td>\n",
       "      <td>None</td>\n",
       "      <td>2021-03-01T13:02:58.000000</td>\n",
       "      <td>POLYGON((-106.530579 35.604019,-106.191231 37....</td>\n",
       "      <td>None</td>\n",
       "      <td>158</td>\n",
       "      <td>None</td>\n",
       "    </tr>\n",
       "    <tr>\n",
       "      <th>5</th>\n",
       "      <td>25800</td>\n",
       "      <td>IW</td>\n",
       "      <td>IW</td>\n",
       "      <td>None</td>\n",
       "      <td>None</td>\n",
       "      <td>None</td>\n",
       "      <td>35.5756</td>\n",
       "      <td>-107.4815</td>\n",
       "      <td>None</td>\n",
       "      <td>Interferometric Wide. 250 km swath, 5 m x 20 m...</td>\n",
       "      <td>...</td>\n",
       "      <td>C-SAR</td>\n",
       "      <td>3953.4769229888916</td>\n",
       "      <td>None</td>\n",
       "      <td>2021-02-28T01:08:51.000000</td>\n",
       "      <td>None</td>\n",
       "      <td>2021-02-28T01:09:18.000000</td>\n",
       "      <td>POLYGON((-106.257790 36.577381,-105.931976 34....</td>\n",
       "      <td>None</td>\n",
       "      <td>49</td>\n",
       "      <td>None</td>\n",
       "    </tr>\n",
       "    <tr>\n",
       "      <th>6</th>\n",
       "      <td>25727</td>\n",
       "      <td>IW</td>\n",
       "      <td>IW</td>\n",
       "      <td>None</td>\n",
       "      <td>None</td>\n",
       "      <td>None</td>\n",
       "      <td>36.4669</td>\n",
       "      <td>-105.6039</td>\n",
       "      <td>None</td>\n",
       "      <td>Interferometric Wide. 250 km swath, 5 m x 20 m...</td>\n",
       "      <td>...</td>\n",
       "      <td>C-SAR</td>\n",
       "      <td>4123.9064083099365</td>\n",
       "      <td>None</td>\n",
       "      <td>2021-02-23T01:00:53.000000</td>\n",
       "      <td>None</td>\n",
       "      <td>2021-02-23T01:01:20.000000</td>\n",
       "      <td>POLYGON((-104.349236 37.470016,-104.022041 35....</td>\n",
       "      <td>None</td>\n",
       "      <td>151</td>\n",
       "      <td>None</td>\n",
       "    </tr>\n",
       "    <tr>\n",
       "      <th>7</th>\n",
       "      <td>36703</td>\n",
       "      <td>IW</td>\n",
       "      <td>IW</td>\n",
       "      <td>None</td>\n",
       "      <td>None</td>\n",
       "      <td>None</td>\n",
       "      <td>35.1214</td>\n",
       "      <td>-107.268</td>\n",
       "      <td>None</td>\n",
       "      <td>Interferometric Wide. 250 km swath, 5 m x 20 m...</td>\n",
       "      <td>...</td>\n",
       "      <td>C-SAR</td>\n",
       "      <td>3863.8349323272705</td>\n",
       "      <td>None</td>\n",
       "      <td>2021-02-22T13:11:03.000000</td>\n",
       "      <td>None</td>\n",
       "      <td>2021-02-22T13:11:30.000000</td>\n",
       "      <td>POLYGON((-108.809189 34.502728,-108.483635 36....</td>\n",
       "      <td>None</td>\n",
       "      <td>56</td>\n",
       "      <td>None</td>\n",
       "    </tr>\n",
       "    <tr>\n",
       "      <th>8</th>\n",
       "      <td>36703</td>\n",
       "      <td>IW</td>\n",
       "      <td>IW</td>\n",
       "      <td>None</td>\n",
       "      <td>None</td>\n",
       "      <td>None</td>\n",
       "      <td>36.6425</td>\n",
       "      <td>-106.9268</td>\n",
       "      <td>None</td>\n",
       "      <td>Interferometric Wide. 250 km swath, 5 m x 20 m...</td>\n",
       "      <td>...</td>\n",
       "      <td>C-SAR</td>\n",
       "      <td>4168.028311729431</td>\n",
       "      <td>None</td>\n",
       "      <td>2021-02-22T13:10:37.000000</td>\n",
       "      <td>None</td>\n",
       "      <td>2021-02-22T13:11:05.000000</td>\n",
       "      <td>POLYGON((-108.504982 35.994659,-108.164658 37....</td>\n",
       "      <td>None</td>\n",
       "      <td>56</td>\n",
       "      <td>None</td>\n",
       "    </tr>\n",
       "  </tbody>\n",
       "</table>\n",
       "<p>9 rows × 68 columns</p>\n",
       "</div>"
      ],
      "text/plain": [
       "  absoluteOrbit beamMode beamModeType beamSwath browse catSceneId centerLat  \\\n",
       "0         25902       IW           IW      None   None       None   36.4669   \n",
       "1         36878       IW           IW      None   None       None   35.1212   \n",
       "2         36878       IW           IW      None   None       None   36.6425   \n",
       "3         36805       IW           IW      None   None       None   34.7292   \n",
       "4         36805       IW           IW      None   None       None   36.2521   \n",
       "5         25800       IW           IW      None   None       None   35.5756   \n",
       "6         25727       IW           IW      None   None       None   36.4669   \n",
       "7         36703       IW           IW      None   None       None   35.1214   \n",
       "8         36703       IW           IW      None   None       None   36.6425   \n",
       "\n",
       "   centerLon collectionName  \\\n",
       "0  -105.6039           None   \n",
       "1  -107.2677           None   \n",
       "2  -106.9264           None   \n",
       "3  -105.2902           None   \n",
       "4  -104.9638           None   \n",
       "5  -107.4815           None   \n",
       "6  -105.6039           None   \n",
       "7   -107.268           None   \n",
       "8  -106.9268           None   \n",
       "\n",
       "                                   configurationName  ... sensor  \\\n",
       "0  Interferometric Wide. 250 km swath, 5 m x 20 m...  ...  C-SAR   \n",
       "1  Interferometric Wide. 250 km swath, 5 m x 20 m...  ...  C-SAR   \n",
       "2  Interferometric Wide. 250 km swath, 5 m x 20 m...  ...  C-SAR   \n",
       "3  Interferometric Wide. 250 km swath, 5 m x 20 m...  ...  C-SAR   \n",
       "4  Interferometric Wide. 250 km swath, 5 m x 20 m...  ...  C-SAR   \n",
       "5  Interferometric Wide. 250 km swath, 5 m x 20 m...  ...  C-SAR   \n",
       "6  Interferometric Wide. 250 km swath, 5 m x 20 m...  ...  C-SAR   \n",
       "7  Interferometric Wide. 250 km swath, 5 m x 20 m...  ...  C-SAR   \n",
       "8  Interferometric Wide. 250 km swath, 5 m x 20 m...  ...  C-SAR   \n",
       "\n",
       "               sizeMB slaveGranule                   startTime status  \\\n",
       "0  4096.6252155303955         None  2021-03-07T01:00:52.000000   None   \n",
       "1   3868.169867515564         None  2021-03-06T13:11:03.000000   None   \n",
       "2   4161.684388160706         None  2021-03-06T13:10:37.000000   None   \n",
       "3   3746.820252418518         None  2021-03-01T13:02:55.000000   None   \n",
       "4  4063.6540145874023         None  2021-03-01T13:02:30.000000   None   \n",
       "5  3953.4769229888916         None  2021-02-28T01:08:51.000000   None   \n",
       "6  4123.9064083099365         None  2021-02-23T01:00:53.000000   None   \n",
       "7  3863.8349323272705         None  2021-02-22T13:11:03.000000   None   \n",
       "8   4168.028311729431         None  2021-02-22T13:10:37.000000   None   \n",
       "\n",
       "                     stopTime  \\\n",
       "0  2021-03-07T01:01:19.000000   \n",
       "1  2021-03-06T13:11:30.000000   \n",
       "2  2021-03-06T13:11:05.000000   \n",
       "3  2021-03-01T13:03:22.000000   \n",
       "4  2021-03-01T13:02:58.000000   \n",
       "5  2021-02-28T01:09:18.000000   \n",
       "6  2021-02-23T01:01:20.000000   \n",
       "7  2021-02-22T13:11:30.000000   \n",
       "8  2021-02-22T13:11:05.000000   \n",
       "\n",
       "                                     stringFootprint thumbnailUrl track  \\\n",
       "0  POLYGON((-104.349129 37.469887,-104.021988 35....         None   151   \n",
       "1  POLYGON((-108.808792 34.502563,-108.483223 36....         None    56   \n",
       "2  POLYGON((-108.504555 35.994625,-108.164185 37....         None    56   \n",
       "3  POLYGON((-106.824287 34.111134,-106.499451 35....         None   158   \n",
       "4  POLYGON((-106.530579 35.604019,-106.191231 37....         None   158   \n",
       "5  POLYGON((-106.257790 36.577381,-105.931976 34....         None    49   \n",
       "6  POLYGON((-104.349236 37.470016,-104.022041 35....         None   151   \n",
       "7  POLYGON((-108.809189 34.502728,-108.483635 36....         None    56   \n",
       "8  POLYGON((-108.504982 35.994659,-108.164658 37....         None    56   \n",
       "\n",
       "  varianceTroposphere  \n",
       "0                None  \n",
       "1                None  \n",
       "2                None  \n",
       "3                None  \n",
       "4                None  \n",
       "5                None  \n",
       "6                None  \n",
       "7                None  \n",
       "8                None  \n",
       "\n",
       "[9 rows x 68 columns]"
      ]
     },
     "metadata": {},
     "output_type": "display_data"
    }
   ],
   "source": [
    "# load results into pandas dataframe\n",
    "import pandas as pd\n",
    "df = pd.DataFrame(r.json()[0])\n",
    "display(df)"
   ]
  },
  {
   "cell_type": "code",
   "execution_count": 15,
   "id": "incorporate-active",
   "metadata": {},
   "outputs": [],
   "source": [
    "# Easier to explore the inventory in plots\n",
    "import hvplot.pandas\n",
    "from bokeh.models.formatters import DatetimeTickFormatter\n",
    "\n",
    "formatter = DatetimeTickFormatter(years='%m-%d')\n",
    "timeseries = df.hvplot.scatter(x='startTime', y='relativeOrbit', c='relativeOrbit',\n",
    "                               xformatter=formatter,\n",
    "                               title='Acquisition times (UTC)')"
   ]
  },
  {
   "cell_type": "code",
   "execution_count": 18,
   "id": "solved-century",
   "metadata": {},
   "outputs": [
    {
     "data": {},
     "metadata": {},
     "output_type": "display_data"
    },
    {
     "data": {},
     "metadata": {},
     "output_type": "display_data"
    },
    {
     "data": {
      "application/vnd.holoviews_exec.v0+json": "",
      "text/html": [
       "<div id='1418'>\n",
       "\n",
       "\n",
       "\n",
       "\n",
       "\n",
       "  <div class=\"bk-root\" id=\"a5520a31-c027-4638-aa95-afe5519e0685\" data-root-id=\"1418\"></div>\n",
       "</div>\n",
       "<script type=\"application/javascript\">(function(root) {\n",
       "  function embed_document(root) {\n",
       "    var docs_json = {\"bbbf2843-ee06-430e-af6d-7dedd919204d\":{\"defs\":[{\"extends\":null,\"module\":null,\"name\":\"ReactiveHTML1\",\"overrides\":[],\"properties\":[]},{\"extends\":null,\"module\":null,\"name\":\"FlexBox1\",\"overrides\":[],\"properties\":[{\"default\":\"flex-start\",\"kind\":null,\"name\":\"align_content\"},{\"default\":\"flex-start\",\"kind\":null,\"name\":\"align_items\"},{\"default\":\"row\",\"kind\":null,\"name\":\"flex_direction\"},{\"default\":\"wrap\",\"kind\":null,\"name\":\"flex_wrap\"},{\"default\":\"flex-start\",\"kind\":null,\"name\":\"justify_content\"}]},{\"extends\":null,\"module\":null,\"name\":\"TemplateActions1\",\"overrides\":[],\"properties\":[{\"default\":0,\"kind\":null,\"name\":\"open_modal\"},{\"default\":0,\"kind\":null,\"name\":\"close_modal\"}]},{\"extends\":null,\"module\":null,\"name\":\"MaterialTemplateActions1\",\"overrides\":[],\"properties\":[{\"default\":0,\"kind\":null,\"name\":\"open_modal\"},{\"default\":0,\"kind\":null,\"name\":\"close_modal\"}]}],\"roots\":{\"references\":[{\"attributes\":{\"fill_alpha\":{\"value\":0.2},\"fill_color\":{\"field\":\"color\",\"transform\":{\"id\":\"1501\"}},\"line_alpha\":{\"value\":0.2},\"xs\":{\"field\":\"xs\"},\"ys\":{\"field\":\"ys\"}},\"id\":\"1508\",\"type\":\"MultiPolygons\"},{\"attributes\":{},\"id\":\"1615\",\"type\":\"WheelZoomTool\"},{\"attributes\":{\"match_aspect\":true,\"overlay\":{\"id\":\"1458\"}},\"id\":\"1430\",\"type\":\"BoxZoomTool\"},{\"attributes\":{\"fill_alpha\":{\"value\":0.1},\"fill_color\":{\"value\":null},\"line_alpha\":{\"value\":0.1},\"line_color\":{\"value\":\"#bf00bf\"},\"xs\":{\"field\":\"xs\"},\"ys\":{\"field\":\"ys\"}},\"id\":\"1518\",\"type\":\"MultiPolygons\"},{\"attributes\":{\"bottom_units\":\"screen\",\"fill_alpha\":0.5,\"fill_color\":\"lightgrey\",\"left_units\":\"screen\",\"level\":\"overlay\",\"line_alpha\":1.0,\"line_color\":\"black\",\"line_dash\":[4,4],\"line_width\":2,\"right_units\":\"screen\",\"syncable\":false,\"top_units\":\"screen\"},\"id\":\"1458\",\"type\":\"BoxAnnotation\"},{\"attributes\":{\"axis\":{\"id\":\"1447\"},\"grid_line_color\":null,\"ticker\":null},\"id\":\"1450\",\"type\":\"Grid\"},{\"attributes\":{},\"id\":\"1639\",\"type\":\"CategoricalTickFormatter\"},{\"attributes\":{\"text\":\"Acquisition times (UTC)\",\"text_color\":\"black\",\"text_font_size\":\"12pt\"},\"id\":\"1599\",\"type\":\"Title\"},{\"attributes\":{},\"id\":\"1443\",\"type\":\"LinearScale\"},{\"attributes\":{\"axis\":{\"id\":\"1451\"},\"dimension\":1,\"grid_line_color\":null,\"ticker\":null},\"id\":\"1454\",\"type\":\"Grid\"},{\"attributes\":{\"data\":{\"color\":[\"151\",\"56\",\"56\",\"158\",\"158\",\"49\",\"151\",\"56\",\"56\"],\"relativeOrbit\":[\"151\",\"56\",\"56\",\"158\",\"158\",\"49\",\"151\",\"56\",\"56\"],\"xs\":[[[{\"__ndarray__\":\"88X1fOsnZsHT64hXIxZmwWaynpZKrmbBKgBNnWrDZsHzxfV86ydmwQ==\",\"dtype\":\"float64\",\"order\":\"little\",\"shape\":[5]}]],[[{\"__ndarray__\":\"Rng3alMaZ8GQbZskoQhnwZsc1vKRcWbBgpfchl6GZsFGeDdqUxpnwQ==\",\"dtype\":\"float64\",\"order\":\"little\",\"shape\":[5]}]],[[{\"__ndarray__\":\"15X2+ckJZ8FzcOG/SfdmwRR22+3VXGbBpBjmt8xyZsHXlfb5yQlnwQ==\",\"dtype\":\"float64\",\"order\":\"little\",\"shape\":[5]}]],[[{\"__ndarray__\":\"V1R2J3WuZsEFcfYUzZxmwbuDu/9+BmbBI/DSNTIbZsFXVHYnda5mwQ==\",\"dtype\":\"float64\",\"order\":\"little\",\"shape\":[5]}]],[[{\"__ndarray__\":\"vLbcOX6eZsG9R184DIxmwZV8AJvO8mXBIvUDLqQIZsG8ttw5fp5mwQ==\",\"dtype\":\"float64\",\"order\":\"little\",\"shape\":[5]}]],[[{\"__ndarray__\":\"sXdrYqqPZsFCwRC09H1mwZITjnLFEmfBcJ/f4aUnZ8Gxd2tiqo9mwQ==\",\"dtype\":\"float64\",\"order\":\"little\",\"shape\":[5]}]],[[{\"__ndarray__\":\"ejQe+uwnZsElLFUUJBZmwQLCL2FKrmbBwx4Yk2vDZsF6NB767CdmwQ==\",\"dtype\":\"float64\",\"order\":\"little\",\"shape\":[5]}]],[[{\"__ndarray__\":\"s2Nr8FgaZ8FiST7gpghnwYCZ4fuVcWbBKZP4dmKGZsGzY2vwWBpnwQ==\",\"dtype\":\"float64\",\"order\":\"little\",\"shape\":[5]}]],[[{\"__ndarray__\":\"DGII688JZ8G5+89UUPdmwZQRsuzaXGbBEvXfEtFyZsEMYgjrzwlnwQ==\",\"dtype\":\"float64\",\"order\":\"little\",\"shape\":[5]}]]],\"ys\":[[[{\"__ndarray__\":\"+ePQuzkvUUFtyzgCo1NQQSriyqSqHVBBEORc31f4UEH549C7OS9RQQ==\",\"dtype\":\"float64\",\"order\":\"little\",\"shape\":[5]}]],[[{\"__ndarray__\":\"1UBcn/JAT0GNwiZijHhQQYuiWHzwQlBBttL7QV3XTkHVQFyf8kBPQQ==\",\"dtype\":\"float64\",\"order\":\"little\",\"shape\":[5]}]],[[{\"__ndarray__\":\"k+WNcxpnUEHFgTQZEUtRQRXXXQF7FFFBn95VGHoxUEGT5Y1zGmdQQQ==\",\"dtype\":\"float64\",\"order\":\"little\",\"shape\":[5]}]],[[{\"__ndarray__\":\"LQB/MevZTkEuNlBP9ENQQZBW7duHDlBB0nY+LKhwTkEtAH8x69lOQQ==\",\"dtype\":\"float64\",\"order\":\"little\",\"shape\":[5]}]],[[{\"__ndarray__\":\"4H7rub8yUEFPWH+jkBVRQaJ7451g31BBLmzd8Pj6T0Hgfuu5vzJQQQ==\",\"dtype\":\"float64\",\"order\":\"little\",\"shape\":[5]}]],[[{\"__ndarray__\":\"/rOFbrK1UEGTu7+gQLlPQekVCOpHT09B70HPMd5/UEH+s4VusrVQQQ==\",\"dtype\":\"float64\",\"order\":\"little\",\"shape\":[5]}]],[[{\"__ndarray__\":\"hMDKQT4vUUHlbrrEmlNQQZiSQ5ujHVBBsgidoF34UEGEwMpBPi9RQQ==\",\"dtype\":\"float64\",\"order\":\"little\",\"shape\":[5]}]],[[{\"__ndarray__\":\"Il9AxP1AT0F50xvCkXhQQVFnX9X1QlBB55ESSGjXTkEiX0DE/UBPQQ==\",\"dtype\":\"float64\",\"order\":\"little\",\"shape\":[5]}]],[[{\"__ndarray__\":\"ebzynhtnUEEtDxqeDUtRQQaE0K53FFFBgan8SnsxUEF5vPKeG2dQQQ==\",\"dtype\":\"float64\",\"order\":\"little\",\"shape\":[5]}]]]},\"selected\":{\"id\":\"1503\"},\"selection_policy\":{\"id\":\"1528\"}},\"id\":\"1502\",\"type\":\"ColumnDataSource\"},{\"attributes\":{\"data\":{\"xs\":[[[{\"__ndarray__\":\"8/fGZC2SZsHz98ZkLZJmwQ1WYxtroGbBDVZjG2ugZsHz98ZkLZJmwQ==\",\"dtype\":\"float64\",\"order\":\"little\",\"shape\":[5]}]]],\"ys\":[[[{\"__ndarray__\":\"pQUlyfs9UEGK517lGHhQQYrnXuUYeFBBpQUlyfs9UEGlBSXJ+z1QQQ==\",\"dtype\":\"float64\",\"order\":\"little\",\"shape\":[5]}]]]},\"selected\":{\"id\":\"1515\"},\"selection_policy\":{\"id\":\"1530\"}},\"id\":\"1514\",\"type\":\"ColumnDataSource\"},{\"attributes\":{\"axis\":{\"id\":\"1607\"},\"grid_line_color\":null,\"ticker\":null},\"id\":\"1609\",\"type\":\"Grid\"},{\"attributes\":{},\"id\":\"1603\",\"type\":\"CategoricalScale\"},{\"attributes\":{\"fill_alpha\":{\"value\":0.2},\"fill_color\":{\"field\":\"color\",\"transform\":{\"id\":\"1501\"}},\"line_alpha\":{\"value\":0.2},\"xs\":{\"field\":\"xs\"},\"ys\":{\"field\":\"ys\"}},\"id\":\"1507\",\"type\":\"MultiPolygons\"},{\"attributes\":{},\"id\":\"1605\",\"type\":\"CategoricalScale\"},{\"attributes\":{\"text\":\"Sentinel-1 Tracks\",\"text_color\":\"black\",\"text_font_size\":\"12pt\"},\"id\":\"1439\",\"type\":\"Title\"},{\"attributes\":{},\"id\":\"1457\",\"type\":\"ResetTool\"},{\"attributes\":{\"axis\":{\"id\":\"1610\"},\"dimension\":1,\"grid_line_color\":null,\"ticker\":null},\"id\":\"1612\",\"type\":\"Grid\"},{\"attributes\":{\"axis_label\":\"startTime\",\"formatter\":{\"id\":\"1417\"},\"major_label_policy\":{\"id\":\"1641\"},\"ticker\":{\"id\":\"1608\"}},\"id\":\"1607\",\"type\":\"CategoricalAxis\"},{\"attributes\":{},\"id\":\"1608\",\"type\":\"CategoricalTicker\"},{\"attributes\":{\"fill_alpha\":{\"value\":0.2},\"fill_color\":{\"value\":null},\"line_alpha\":{\"value\":0.2},\"line_color\":{\"value\":\"#bf00bf\"},\"xs\":{\"field\":\"xs\"},\"ys\":{\"field\":\"ys\"}},\"id\":\"1519\",\"type\":\"MultiPolygons\"},{\"attributes\":{},\"id\":\"1614\",\"type\":\"PanTool\"},{\"attributes\":{},\"id\":\"1503\",\"type\":\"Selection\"},{\"attributes\":{\"client_comm_id\":\"56fadb8e39984496af1d7dc62273c2e9\",\"comm_id\":\"9c7b545f41784f70909c5f4d0088f264\",\"plot_id\":\"1418\"},\"id\":\"1726\",\"type\":\"panel.models.comm_manager.CommManager\"},{\"attributes\":{\"fill_color\":{\"field\":\"color\",\"transform\":{\"id\":\"1626\"}},\"line_color\":{\"field\":\"color\",\"transform\":{\"id\":\"1626\"}},\"size\":{\"value\":5.477225575051661},\"x\":{\"field\":\"startTime\"},\"y\":{\"field\":\"relativeOrbit\"}},\"id\":\"1632\",\"type\":\"Scatter\"},{\"attributes\":{\"callback\":null,\"renderers\":[{\"id\":\"1510\"}],\"tags\":[\"hv_created\"],\"tooltips\":[[\"relativeOrbit\",\"@{relativeOrbit}\"]]},\"id\":\"1433\",\"type\":\"HoverTool\"},{\"attributes\":{\"data_source\":{\"id\":\"1514\"},\"glyph\":{\"id\":\"1517\"},\"hover_glyph\":null,\"muted_glyph\":{\"id\":\"1519\"},\"nonselection_glyph\":{\"id\":\"1518\"},\"selection_glyph\":{\"id\":\"1522\"},\"view\":{\"id\":\"1521\"}},\"id\":\"1520\",\"type\":\"GlyphRenderer\"},{\"attributes\":{\"fill_color\":{\"field\":\"color\",\"transform\":{\"id\":\"1626\"}},\"line_color\":{\"field\":\"color\",\"transform\":{\"id\":\"1626\"}},\"size\":{\"value\":5.477225575051661},\"x\":{\"field\":\"startTime\"},\"y\":{\"field\":\"relativeOrbit\"}},\"id\":\"1630\",\"type\":\"Scatter\"},{\"attributes\":{\"callback\":null,\"renderers\":[{\"id\":\"1635\"}],\"tags\":[\"hv_created\"],\"tooltips\":[[\"startTime\",\"@{startTime}\"],[\"relativeOrbit\",\"@{relativeOrbit}\"]]},\"id\":\"1597\",\"type\":\"HoverTool\"},{\"attributes\":{\"below\":[{\"id\":\"1607\"}],\"center\":[{\"id\":\"1609\"},{\"id\":\"1612\"},{\"id\":\"1647\"}],\"height\":300,\"left\":[{\"id\":\"1610\"}],\"margin\":[5,5,5,5],\"min_border_bottom\":10,\"min_border_left\":10,\"min_border_right\":10,\"min_border_top\":10,\"renderers\":[{\"id\":\"1635\"}],\"right\":[{\"id\":\"1647\"}],\"sizing_mode\":\"fixed\",\"title\":{\"id\":\"1599\"},\"toolbar\":{\"id\":\"1619\"},\"width\":700,\"x_range\":{\"id\":\"1595\"},\"x_scale\":{\"id\":\"1603\"},\"y_range\":{\"id\":\"1596\"},\"y_scale\":{\"id\":\"1605\"}},\"id\":\"1598\",\"subtype\":\"Figure\",\"type\":\"Plot\"},{\"attributes\":{\"children\":[{\"id\":\"1438\"},{\"id\":\"1598\"}],\"margin\":[0,0,0,0],\"name\":\"Column04328\"},\"id\":\"1418\",\"type\":\"Column\"},{\"attributes\":{},\"id\":\"1445\",\"type\":\"LinearScale\"},{\"attributes\":{\"axis_label\":\"relativeOrbit\",\"formatter\":{\"id\":\"1639\"},\"major_label_policy\":{\"id\":\"1638\"},\"ticker\":{\"id\":\"1611\"}},\"id\":\"1610\",\"type\":\"CategoricalAxis\"},{\"attributes\":{\"data_source\":{\"id\":\"1502\"},\"glyph\":{\"id\":\"1505\"},\"hover_glyph\":{\"id\":\"1508\"},\"muted_glyph\":{\"id\":\"1509\"},\"nonselection_glyph\":{\"id\":\"1506\"},\"selection_glyph\":{\"id\":\"1507\"},\"view\":{\"id\":\"1511\"}},\"id\":\"1510\",\"type\":\"GlyphRenderer\"},{\"attributes\":{\"level\":\"underlay\",\"tile_source\":{\"id\":\"1494\"}},\"id\":\"1497\",\"type\":\"TileRenderer\"},{\"attributes\":{\"axis_label\":\"Latitude\",\"formatter\":{\"id\":\"1471\"},\"major_label_policy\":{\"id\":\"1479\"},\"ticker\":{\"id\":\"1470\"}},\"id\":\"1451\",\"type\":\"LinearAxis\"},{\"attributes\":{\"attribution\":\"Map tiles by <a href=\\\"https://stamen.com\\\">Stamen Design</a>, under <a href=\\\"https://creativecommons.org/licenses/by/3.0\\\">CC BY 3.0</a>. Data by <a href=\\\"https://openstreetmap.org\\\">OpenStreetMap</a>, under <a href=\\\"https://www.openstreetmap.org/copyright\\\">ODbL</a>.\",\"url\":\"http://tile.stamen.com/terrain/{Z}/{X}/{Y}@2x.png\"},\"id\":\"1494\",\"type\":\"WMTSTileSource\"},{\"attributes\":{},\"id\":\"1611\",\"type\":\"CategoricalTicker\"},{\"attributes\":{\"zoom_on_axis\":false},\"id\":\"1429\",\"type\":\"WheelZoomTool\"},{\"attributes\":{\"factors\":[\"151\",\"56\",\"158\",\"49\"],\"palette\":[\"#1f77b3\",\"#ff7e0e\",\"#2ba02b\",\"#d62628\"]},\"id\":\"1501\",\"type\":\"CategoricalColorMapper\"},{\"attributes\":{},\"id\":\"1613\",\"type\":\"SaveTool\"},{\"attributes\":{\"active_multi\":null,\"tools\":[{\"id\":\"1429\"},{\"id\":\"1430\"},{\"id\":\"1433\"},{\"id\":\"1456\"},{\"id\":\"1457\"}]},\"id\":\"1459\",\"type\":\"Toolbar\"},{\"attributes\":{\"fill_alpha\":{\"value\":1.0},\"fill_color\":{\"value\":null},\"hatch_alpha\":{\"value\":1.0},\"hatch_color\":{\"value\":\"black\"},\"hatch_scale\":{\"value\":12.0},\"hatch_weight\":{\"value\":1.0},\"line_alpha\":{\"value\":1.0},\"line_cap\":{\"value\":\"butt\"},\"line_color\":{\"value\":\"#bf00bf\"},\"line_dash\":{\"value\":[]},\"line_dash_offset\":{\"value\":0},\"line_join\":{\"value\":\"bevel\"},\"line_width\":{\"value\":1},\"xs\":{\"field\":\"xs\"},\"ys\":{\"field\":\"ys\"}},\"id\":\"1522\",\"type\":\"MultiPolygons\"},{\"attributes\":{\"axis_label\":\"Longitude\",\"formatter\":{\"id\":\"1469\"},\"major_label_policy\":{\"id\":\"1472\"},\"ticker\":{\"id\":\"1468\"}},\"id\":\"1447\",\"type\":\"LinearAxis\"},{\"attributes\":{\"factors\":[\"151\",\"56\",\"158\",\"49\"],\"tags\":[[[\"relativeOrbit\",\"relativeOrbit\",null]]]},\"id\":\"1596\",\"type\":\"FactorRange\"},{\"attributes\":{},\"id\":\"1628\",\"type\":\"Selection\"},{\"attributes\":{\"dimension\":\"lat\"},\"id\":\"1471\",\"type\":\"MercatorTickFormatter\"},{\"attributes\":{\"fill_alpha\":{\"value\":0.1},\"fill_color\":{\"field\":\"color\",\"transform\":{\"id\":\"1626\"}},\"line_alpha\":{\"value\":0.1},\"line_color\":{\"field\":\"color\",\"transform\":{\"id\":\"1626\"}},\"size\":{\"value\":5.477225575051661},\"x\":{\"field\":\"startTime\"},\"y\":{\"field\":\"relativeOrbit\"}},\"id\":\"1631\",\"type\":\"Scatter\"},{\"attributes\":{\"below\":[{\"id\":\"1447\"}],\"center\":[{\"id\":\"1450\"},{\"id\":\"1454\"}],\"frame_height\":400,\"frame_width\":600,\"height\":400,\"left\":[{\"id\":\"1451\"}],\"margin\":[5,5,5,5],\"match_aspect\":true,\"min_border_bottom\":10,\"min_border_left\":10,\"min_border_right\":10,\"min_border_top\":10,\"renderers\":[{\"id\":\"1497\"},{\"id\":\"1510\"},{\"id\":\"1520\"}],\"sizing_mode\":\"fixed\",\"title\":{\"id\":\"1439\"},\"toolbar\":{\"id\":\"1459\"},\"x_range\":{\"id\":\"1427\"},\"x_scale\":{\"id\":\"1443\"},\"y_range\":{\"id\":\"1428\"},\"y_scale\":{\"id\":\"1445\"}},\"id\":\"1438\",\"subtype\":\"Figure\",\"type\":\"Plot\"},{\"attributes\":{},\"id\":\"1641\",\"type\":\"AllLabels\"},{\"attributes\":{\"fill_alpha\":{\"value\":0.2},\"fill_color\":{\"field\":\"color\",\"transform\":{\"id\":\"1501\"}},\"line_alpha\":{\"value\":0.2},\"xs\":{\"field\":\"xs\"},\"ys\":{\"field\":\"ys\"}},\"id\":\"1506\",\"type\":\"MultiPolygons\"},{\"attributes\":{\"data\":{\"color\":[\"151\",\"56\",\"56\",\"158\",\"158\",\"49\",\"151\",\"56\",\"56\"],\"relativeOrbit\":[\"151\",\"56\",\"56\",\"158\",\"158\",\"49\",\"151\",\"56\",\"56\"],\"startTime\":[\"2021-03-07T01:00:52.000000\",\"2021-03-06T13:11:03.000000\",\"2021-03-06T13:10:37.000000\",\"2021-03-01T13:02:55.000000\",\"2021-03-01T13:02:30.000000\",\"2021-02-28T01:08:51.000000\",\"2021-02-23T01:00:53.000000\",\"2021-02-22T13:11:03.000000\",\"2021-02-22T13:10:37.000000\"]},\"selected\":{\"id\":\"1628\"},\"selection_policy\":{\"id\":\"1646\"}},\"id\":\"1627\",\"type\":\"ColumnDataSource\"},{\"attributes\":{\"source\":{\"id\":\"1502\"}},\"id\":\"1511\",\"type\":\"CDSView\"},{\"attributes\":{\"fill_color\":{\"value\":null},\"line_color\":{\"value\":\"#bf00bf\"},\"xs\":{\"field\":\"xs\"},\"ys\":{\"field\":\"ys\"}},\"id\":\"1517\",\"type\":\"MultiPolygons\"},{\"attributes\":{},\"id\":\"1456\",\"type\":\"PanTool\"},{\"attributes\":{},\"id\":\"1530\",\"type\":\"UnionRenderers\"},{\"attributes\":{\"bottom_units\":\"screen\",\"fill_alpha\":0.5,\"fill_color\":\"lightgrey\",\"left_units\":\"screen\",\"level\":\"overlay\",\"line_alpha\":1.0,\"line_color\":\"black\",\"line_dash\":[4,4],\"line_width\":2,\"right_units\":\"screen\",\"syncable\":false,\"top_units\":\"screen\"},\"id\":\"1618\",\"type\":\"BoxAnnotation\"},{\"attributes\":{\"years\":[\"%m-%d\"]},\"id\":\"1417\",\"type\":\"DatetimeTickFormatter\"},{\"attributes\":{},\"id\":\"1472\",\"type\":\"AllLabels\"},{\"attributes\":{\"data_source\":{\"id\":\"1627\"},\"glyph\":{\"id\":\"1630\"},\"hover_glyph\":{\"id\":\"1633\"},\"muted_glyph\":{\"id\":\"1634\"},\"nonselection_glyph\":{\"id\":\"1631\"},\"selection_glyph\":{\"id\":\"1632\"},\"view\":{\"id\":\"1636\"}},\"id\":\"1635\",\"type\":\"GlyphRenderer\"},{\"attributes\":{\"items\":[{\"id\":\"1648\"}],\"location\":[0,0]},\"id\":\"1647\",\"type\":\"Legend\"},{\"attributes\":{\"factors\":[\"2021-03-07T01:00:52.000000\",\"2021-03-06T13:11:03.000000\",\"2021-03-06T13:10:37.000000\",\"2021-03-01T13:02:55.000000\",\"2021-03-01T13:02:30.000000\",\"2021-02-28T01:08:51.000000\",\"2021-02-23T01:00:53.000000\",\"2021-02-22T13:11:03.000000\",\"2021-02-22T13:10:37.000000\"],\"tags\":[[[\"startTime\",\"startTime\",null]]]},\"id\":\"1595\",\"type\":\"FactorRange\"},{\"attributes\":{\"source\":{\"id\":\"1627\"}},\"id\":\"1636\",\"type\":\"CDSView\"},{\"attributes\":{\"active_multi\":null,\"tools\":[{\"id\":\"1597\"},{\"id\":\"1613\"},{\"id\":\"1614\"},{\"id\":\"1615\"},{\"id\":\"1616\"},{\"id\":\"1617\"}]},\"id\":\"1619\",\"type\":\"Toolbar\"},{\"attributes\":{\"dimension\":\"lon\"},\"id\":\"1469\",\"type\":\"MercatorTickFormatter\"},{\"attributes\":{\"label\":{\"field\":\"color\"},\"renderers\":[{\"id\":\"1635\"}]},\"id\":\"1648\",\"type\":\"LegendItem\"},{\"attributes\":{\"dimension\":\"lat\"},\"id\":\"1470\",\"type\":\"MercatorTicker\"},{\"attributes\":{\"end\":-11334441.754837109,\"min_interval\":5,\"reset_end\":-11334441.754837109,\"reset_start\":-12312698.147520004,\"start\":-12312698.147520004,\"tags\":[[[\"Longitude\",\"Longitude\",null]]]},\"id\":\"1427\",\"type\":\"Range1d\"},{\"attributes\":{},\"id\":\"1638\",\"type\":\"AllLabels\"},{\"attributes\":{\"factors\":[\"151\",\"56\",\"158\",\"49\"],\"palette\":[\"#1f77b3\",\"#ff7e0e\",\"#2ba02b\",\"#d62628\"]},\"id\":\"1626\",\"type\":\"CategoricalColorMapper\"},{\"attributes\":{\"dimension\":\"lon\"},\"id\":\"1468\",\"type\":\"MercatorTicker\"},{\"attributes\":{},\"id\":\"1528\",\"type\":\"UnionRenderers\"},{\"attributes\":{},\"id\":\"1646\",\"type\":\"UnionRenderers\"},{\"attributes\":{\"fill_alpha\":{\"value\":0.2},\"fill_color\":{\"field\":\"color\",\"transform\":{\"id\":\"1501\"}},\"line_alpha\":{\"value\":0.2},\"xs\":{\"field\":\"xs\"},\"ys\":{\"field\":\"ys\"}},\"id\":\"1509\",\"type\":\"MultiPolygons\"},{\"attributes\":{\"fill_alpha\":{\"value\":0.2},\"fill_color\":{\"field\":\"color\",\"transform\":{\"id\":\"1626\"}},\"line_alpha\":{\"value\":0.2},\"line_color\":{\"field\":\"color\",\"transform\":{\"id\":\"1626\"}},\"size\":{\"value\":5.477225575051661},\"x\":{\"field\":\"startTime\"},\"y\":{\"field\":\"relativeOrbit\"}},\"id\":\"1634\",\"type\":\"Scatter\"},{\"attributes\":{\"source\":{\"id\":\"1514\"}},\"id\":\"1521\",\"type\":\"CDSView\"},{\"attributes\":{\"fill_color\":{\"field\":\"color\",\"transform\":{\"id\":\"1626\"}},\"line_color\":{\"field\":\"color\",\"transform\":{\"id\":\"1626\"}},\"size\":{\"value\":5.477225575051661},\"x\":{\"field\":\"startTime\"},\"y\":{\"field\":\"relativeOrbit\"}},\"id\":\"1633\",\"type\":\"Scatter\"},{\"attributes\":{},\"id\":\"1617\",\"type\":\"ResetTool\"},{\"attributes\":{\"end\":4587663.83055964,\"min_interval\":5,\"reset_end\":4587663.83055964,\"reset_start\":3935492.9021043777,\"start\":3935492.9021043777,\"tags\":[[[\"Latitude\",\"Latitude\",null]]]},\"id\":\"1428\",\"type\":\"Range1d\"},{\"attributes\":{\"fill_alpha\":{\"value\":0.2},\"fill_color\":{\"field\":\"color\",\"transform\":{\"id\":\"1501\"}},\"line_alpha\":{\"value\":0.2},\"xs\":{\"field\":\"xs\"},\"ys\":{\"field\":\"ys\"}},\"id\":\"1505\",\"type\":\"MultiPolygons\"},{\"attributes\":{\"overlay\":{\"id\":\"1618\"}},\"id\":\"1616\",\"type\":\"BoxZoomTool\"},{\"attributes\":{},\"id\":\"1479\",\"type\":\"AllLabels\"},{\"attributes\":{},\"id\":\"1515\",\"type\":\"Selection\"}],\"root_ids\":[\"1418\",\"1726\"]},\"title\":\"Bokeh Application\",\"version\":\"2.3.3\"}};\n",
       "    var render_items = [{\"docid\":\"bbbf2843-ee06-430e-af6d-7dedd919204d\",\"root_ids\":[\"1418\"],\"roots\":{\"1418\":\"a5520a31-c027-4638-aa95-afe5519e0685\"}}];\n",
       "    root.Bokeh.embed.embed_items_notebook(docs_json, render_items);\n",
       "  }\n",
       "  if (root.Bokeh !== undefined && root.Bokeh.Panel !== undefined) {\n",
       "    embed_document(root);\n",
       "  } else {\n",
       "    var attempts = 0;\n",
       "    var timer = setInterval(function(root) {\n",
       "      if (root.Bokeh !== undefined && root.Bokeh.Panel !== undefined) {\n",
       "        clearInterval(timer);\n",
       "        embed_document(root);\n",
       "      } else if (document.readyState == \"complete\") {\n",
       "        attempts++;\n",
       "        if (attempts > 200) {\n",
       "          clearInterval(timer);\n",
       "          console.log(\"Bokeh: ERROR: Unable to run BokehJS code because BokehJS library is missing\");\n",
       "        }\n",
       "      }\n",
       "    }, 25, root)\n",
       "  }\n",
       "})(window);</script>"
      ],
      "text/plain": [
       "Column\n",
       "    [0] HoloViews(Overlay)\n",
       "    [1] HoloViews(Scatter)"
      ]
     },
     "execution_count": 18,
     "metadata": {
      "application/vnd.holoviews_exec.v0+json": {
       "id": "1418"
      }
     },
     "output_type": "execute_result"
    }
   ],
   "source": [
    "import geopandas as gpd\n",
    "import geoviews as gv\n",
    "import panel as pn\n",
    "\n",
    "gf_aoi = gpd.GeoDataFrame(geometry=[roi])\n",
    "polygons = df.stringFootprint.apply(shapely.wkt.loads)\n",
    "gf_footprints = gpd.GeoDataFrame(df, crs=\"EPSG:4326\", geometry=polygons)\n",
    "\n",
    "tiles = gv.tile_sources.StamenTerrainRetina.options(width=600, height=400)\n",
    "aoi = gf_aoi.hvplot(geo=True, fill_color=None, line_color='m', hover=False)\n",
    "footprints = gf_footprints.hvplot.polygons(geo=True, legend=False, alpha=0.2, c='relativeOrbit', title='Sentinel-1 Tracks') \n",
    "\n",
    "mapview = tiles * footprints * aoi\n",
    "\n",
    "pn.Column(mapview,timeseries)"
   ]
  },
  {
   "cell_type": "raw",
   "id": "confidential-monroe",
   "metadata": {},
   "source": [
    "From the plots above we can choose a pair that has:\n",
    "1. good spatial coverage of our area of interest\n",
    "2. a timespan of interest \n",
    "\n",
    "So let's use relativeOrbit=129 2020-11-11 and 2020-10-30"
   ]
  },
  {
   "cell_type": "code",
   "execution_count": 16,
   "id": "sunrise-bargain",
   "metadata": {},
   "outputs": [
    {
     "data": {
      "text/plain": [
       "array(['151', '56', '158', '49'], dtype=object)"
      ]
     },
     "execution_count": 16,
     "metadata": {},
     "output_type": "execute_result"
    }
   ],
   "source": [
    "df.relativeOrbit.unique()"
   ]
  },
  {
   "cell_type": "code",
   "execution_count": 24,
   "id": "acting-boost",
   "metadata": {},
   "outputs": [
    {
     "name": "stdout",
     "output_type": "stream",
     "text": [
      "granule1: S1B_IW_SLC__1SDV_20210223T010053_20210223T010120_025727_031125_0EF6\n",
      "granule2: S1B_IW_SLC__1SDV_20210307T010052_20210307T010119_025902_0316DD_12D1\n"
     ]
    }
   ],
   "source": [
    "orbit = '151'\n",
    "reference = '2021-02-23'\n",
    "secondary = '2021-03-07'\n",
    "\n",
    "dfS = df[df.relativeOrbit == orbit]\n",
    "granule1 = dfS.loc[dfS.sceneDate.str.startswith(reference), 'granuleName'].values[0]\n",
    "granule2 = dfS.loc[dfS.sceneDate.str.startswith(secondary), 'granuleName'].values[0]\n",
    "print(f'granule1: {granule1}')\n",
    "print(f'granule2: {granule2}')"
   ]
  },
  {
   "cell_type": "code",
   "execution_count": 25,
   "id": "expanded-justice",
   "metadata": {},
   "outputs": [
    {
     "name": "stdout",
     "output_type": "stream",
     "text": [
      "https://datapool.asf.alaska.edu/SLC/SB/S1B_IW_SLC__1SDV_20210223T010053_20210223T010120_025727_031125_0EF6.zip\n",
      "https://datapool.asf.alaska.edu/SLC/SB/S1B_IW_SLC__1SDV_20210307T010052_20210307T010119_025902_0316DD_12D1.zip\n"
     ]
    }
   ],
   "source": [
    "for ref in [reference, secondary]:\n",
    "    print(dfS.loc[dfS.sceneDate.str.startswith(ref), 'downloadUrl'].values[0])"
   ]
  },
  {
   "cell_type": "markdown",
   "id": "local-reception",
   "metadata": {},
   "source": [
    "## Process an InSAR pair (interferogram)\n",
    "\n",
    "examples:\n",
    "- https://nbviewer.jupyter.org/github/ASFHyP3/hyp3-sdk/blob/main/docs/sdk_example.ipynb\n",
    "- https://hyp3-docs.asf.alaska.edu/using/sdk/"
   ]
  },
  {
   "cell_type": "code",
   "execution_count": 26,
   "id": "practical-input",
   "metadata": {},
   "outputs": [],
   "source": [
    "import hyp3_sdk"
   ]
  },
  {
   "cell_type": "code",
   "execution_count": 27,
   "id": "compatible-springer",
   "metadata": {},
   "outputs": [],
   "source": [
    "# ~/.netrc file used for credentials\n",
    "hyp3 = hyp3_sdk.HyP3()"
   ]
  },
  {
   "cell_type": "code",
   "execution_count": 28,
   "id": "narrow-glory",
   "metadata": {},
   "outputs": [
    {
     "data": {
      "text/plain": [
       "998"
      ]
     },
     "execution_count": 28,
     "metadata": {},
     "output_type": "execute_result"
    }
   ],
   "source": [
    "# Processing quota\n",
    "hyp3.check_quota() #199 (200 scenes per month?)"
   ]
  },
  {
   "cell_type": "code",
   "execution_count": 30,
   "id": "advance-registrar",
   "metadata": {},
   "outputs": [
    {
     "ename": "KeyError",
     "evalue": "'detail'",
     "output_type": "error",
     "traceback": [
      "\u001b[0;31m---------------------------------------------------------------------------\u001b[0m",
      "\u001b[0;31mHTTPError\u001b[0m                                 Traceback (most recent call last)",
      "\u001b[0;32m~/opt/miniconda3/lib/python3.9/site-packages/hyp3_sdk/exceptions.py\u001b[0m in \u001b[0;36m_raise_for_hyp3_status\u001b[0;34m(response)\u001b[0m\n\u001b[1;32m     28\u001b[0m     \u001b[0;32mtry\u001b[0m\u001b[0;34m:\u001b[0m\u001b[0;34m\u001b[0m\u001b[0;34m\u001b[0m\u001b[0m\n\u001b[0;32m---> 29\u001b[0;31m         \u001b[0mresponse\u001b[0m\u001b[0;34m.\u001b[0m\u001b[0mraise_for_status\u001b[0m\u001b[0;34m(\u001b[0m\u001b[0;34m)\u001b[0m\u001b[0;34m\u001b[0m\u001b[0;34m\u001b[0m\u001b[0m\n\u001b[0m\u001b[1;32m     30\u001b[0m     \u001b[0;32mexcept\u001b[0m \u001b[0mHTTPError\u001b[0m\u001b[0;34m:\u001b[0m\u001b[0;34m\u001b[0m\u001b[0;34m\u001b[0m\u001b[0m\n",
      "\u001b[0;32m~/opt/miniconda3/lib/python3.9/site-packages/requests/models.py\u001b[0m in \u001b[0;36mraise_for_status\u001b[0;34m(self)\u001b[0m\n\u001b[1;32m    952\u001b[0m         \u001b[0;32mif\u001b[0m \u001b[0mhttp_error_msg\u001b[0m\u001b[0;34m:\u001b[0m\u001b[0;34m\u001b[0m\u001b[0;34m\u001b[0m\u001b[0m\n\u001b[0;32m--> 953\u001b[0;31m             \u001b[0;32mraise\u001b[0m \u001b[0mHTTPError\u001b[0m\u001b[0;34m(\u001b[0m\u001b[0mhttp_error_msg\u001b[0m\u001b[0;34m,\u001b[0m \u001b[0mresponse\u001b[0m\u001b[0;34m=\u001b[0m\u001b[0mself\u001b[0m\u001b[0;34m)\u001b[0m\u001b[0;34m\u001b[0m\u001b[0;34m\u001b[0m\u001b[0m\n\u001b[0m\u001b[1;32m    954\u001b[0m \u001b[0;34m\u001b[0m\u001b[0m\n",
      "\u001b[0;31mHTTPError\u001b[0m: 400 Client Error: Bad Request for url: https://hyp3-api.asf.alaska.edu/jobs",
      "\nDuring handling of the above exception, another exception occurred:\n",
      "\u001b[0;31mKeyError\u001b[0m                                  Traceback (most recent call last)",
      "\u001b[0;32m/var/folders/7d/61kbxptj5yl29nbrh216cv_40000gn/T/ipykernel_14988/3514708786.py\u001b[0m in \u001b[0;36m<module>\u001b[0;34m\u001b[0m\n\u001b[0;32m----> 1\u001b[0;31m job2 = hyp3.submit_insar_job(granule1,\n\u001b[0m\u001b[1;32m      2\u001b[0m                             \u001b[0mgranule2\u001b[0m\u001b[0;34m,\u001b[0m\u001b[0;34m\u001b[0m\u001b[0;34m\u001b[0m\u001b[0m\n\u001b[1;32m      3\u001b[0m                             name='jemez_20200222_20200305')\n",
      "\u001b[0;32m~/opt/miniconda3/lib/python3.9/site-packages/hyp3_sdk/hyp3.py\u001b[0m in \u001b[0;36msubmit_insar_job\u001b[0;34m(self, granule1, granule2, name, include_look_vectors, include_los_displacement, include_inc_map, looks, include_dem, include_wrapped_phase)\u001b[0m\n\u001b[1;32m    344\u001b[0m         \u001b[0marguments\u001b[0m\u001b[0;34m.\u001b[0m\u001b[0mpop\u001b[0m\u001b[0;34m(\u001b[0m\u001b[0;34m'self'\u001b[0m\u001b[0;34m)\u001b[0m\u001b[0;34m\u001b[0m\u001b[0;34m\u001b[0m\u001b[0m\n\u001b[1;32m    345\u001b[0m         \u001b[0mjob_dict\u001b[0m \u001b[0;34m=\u001b[0m \u001b[0mself\u001b[0m\u001b[0;34m.\u001b[0m\u001b[0mprepare_insar_job\u001b[0m\u001b[0;34m(\u001b[0m\u001b[0;34m**\u001b[0m\u001b[0marguments\u001b[0m\u001b[0;34m)\u001b[0m\u001b[0;34m\u001b[0m\u001b[0;34m\u001b[0m\u001b[0m\n\u001b[0;32m--> 346\u001b[0;31m         \u001b[0;32mreturn\u001b[0m \u001b[0mself\u001b[0m\u001b[0;34m.\u001b[0m\u001b[0msubmit_prepared_jobs\u001b[0m\u001b[0;34m(\u001b[0m\u001b[0mprepared_jobs\u001b[0m\u001b[0;34m=\u001b[0m\u001b[0mjob_dict\u001b[0m\u001b[0;34m)\u001b[0m\u001b[0;34m\u001b[0m\u001b[0;34m\u001b[0m\u001b[0m\n\u001b[0m\u001b[1;32m    347\u001b[0m \u001b[0;34m\u001b[0m\u001b[0m\n\u001b[1;32m    348\u001b[0m     \u001b[0;34m@\u001b[0m\u001b[0mclassmethod\u001b[0m\u001b[0;34m\u001b[0m\u001b[0;34m\u001b[0m\u001b[0m\n",
      "\u001b[0;32m~/opt/miniconda3/lib/python3.9/site-packages/hyp3_sdk/hyp3.py\u001b[0m in \u001b[0;36msubmit_prepared_jobs\u001b[0;34m(self, prepared_jobs)\u001b[0m\n\u001b[1;32m    184\u001b[0m \u001b[0;34m\u001b[0m\u001b[0m\n\u001b[1;32m    185\u001b[0m         \u001b[0mresponse\u001b[0m \u001b[0;34m=\u001b[0m \u001b[0mself\u001b[0m\u001b[0;34m.\u001b[0m\u001b[0msession\u001b[0m\u001b[0;34m.\u001b[0m\u001b[0mpost\u001b[0m\u001b[0;34m(\u001b[0m\u001b[0murljoin\u001b[0m\u001b[0;34m(\u001b[0m\u001b[0mself\u001b[0m\u001b[0;34m.\u001b[0m\u001b[0murl\u001b[0m\u001b[0;34m,\u001b[0m \u001b[0;34m'/jobs'\u001b[0m\u001b[0;34m)\u001b[0m\u001b[0;34m,\u001b[0m \u001b[0mjson\u001b[0m\u001b[0;34m=\u001b[0m\u001b[0mpayload\u001b[0m\u001b[0;34m)\u001b[0m\u001b[0;34m\u001b[0m\u001b[0;34m\u001b[0m\u001b[0m\n\u001b[0;32m--> 186\u001b[0;31m         \u001b[0m_raise_for_hyp3_status\u001b[0m\u001b[0;34m(\u001b[0m\u001b[0mresponse\u001b[0m\u001b[0;34m)\u001b[0m\u001b[0;34m\u001b[0m\u001b[0;34m\u001b[0m\u001b[0m\n\u001b[0m\u001b[1;32m    187\u001b[0m \u001b[0;34m\u001b[0m\u001b[0m\n\u001b[1;32m    188\u001b[0m         \u001b[0mbatch\u001b[0m \u001b[0;34m=\u001b[0m \u001b[0mBatch\u001b[0m\u001b[0;34m(\u001b[0m\u001b[0;34m)\u001b[0m\u001b[0;34m\u001b[0m\u001b[0;34m\u001b[0m\u001b[0m\n",
      "\u001b[0;32m~/opt/miniconda3/lib/python3.9/site-packages/hyp3_sdk/exceptions.py\u001b[0m in \u001b[0;36m_raise_for_hyp3_status\u001b[0;34m(response)\u001b[0m\n\u001b[1;32m     30\u001b[0m     \u001b[0;32mexcept\u001b[0m \u001b[0mHTTPError\u001b[0m\u001b[0;34m:\u001b[0m\u001b[0;34m\u001b[0m\u001b[0;34m\u001b[0m\u001b[0m\n\u001b[1;32m     31\u001b[0m         \u001b[0;32mif\u001b[0m \u001b[0;36m400\u001b[0m \u001b[0;34m<=\u001b[0m \u001b[0mresponse\u001b[0m\u001b[0;34m.\u001b[0m\u001b[0mstatus_code\u001b[0m \u001b[0;34m<\u001b[0m \u001b[0;36m500\u001b[0m\u001b[0;34m:\u001b[0m\u001b[0;34m\u001b[0m\u001b[0;34m\u001b[0m\u001b[0m\n\u001b[0;32m---> 32\u001b[0;31m             \u001b[0;32mraise\u001b[0m \u001b[0mHyP3Error\u001b[0m\u001b[0;34m(\u001b[0m\u001b[0;34mf'{response} {response.json()[\"detail\"]}'\u001b[0m\u001b[0;34m)\u001b[0m\u001b[0;34m\u001b[0m\u001b[0;34m\u001b[0m\u001b[0m\n\u001b[0m\u001b[1;32m     33\u001b[0m         \u001b[0;32mraise\u001b[0m \u001b[0mServerError\u001b[0m\u001b[0;34m\u001b[0m\u001b[0;34m\u001b[0m\u001b[0m\n\u001b[1;32m     34\u001b[0m \u001b[0;34m\u001b[0m\u001b[0m\n",
      "\u001b[0;31mKeyError\u001b[0m: 'detail'"
     ]
    }
   ],
   "source": [
    "job2 = hyp3.submit_insar_job(granule1,\n",
    "                            granule2,\n",
    "                            name='jemez_20200222_20200305')"
   ]
  },
  {
   "cell_type": "code",
   "execution_count": null,
   "id": "former-essay",
   "metadata": {},
   "outputs": [],
   "source": [
    "# All jobs you've submitted\n",
    "# NOTE: processing w/ defaults uses INSAR_GAMMA \n",
    "# NOTE: re-run this cell to update results of batch job\n",
    "batch = hyp3.find_jobs()\n",
    "job = batch.jobs[0] # most recent job\n",
    "job"
   ]
  },
  {
   "cell_type": "code",
   "execution_count": null,
   "id": "industrial-aspect",
   "metadata": {},
   "outputs": [],
   "source": [
    "# If you have lists of dictionaries, visualizing with a pandas dataframe is convenient\n",
    "df = pd.DataFrame([job.to_dict() for job in batch])\n",
    "df.head()"
   ]
  },
  {
   "cell_type": "code",
   "execution_count": null,
   "id": "diagnostic-scott",
   "metadata": {},
   "outputs": [],
   "source": [
    "# Actually no, expiration time is not available for download...\n",
    "#pd.to_datetime(df.expiration_time[0]) - pd.to_datetime(df.request_time[0])"
   ]
  },
  {
   "cell_type": "code",
   "execution_count": null,
   "id": "029e2a4c",
   "metadata": {},
   "outputs": [],
   "source": [
    "# requires ipywidgets\n",
    "hyp3.watch(job)"
   ]
  },
  {
   "cell_type": "code",
   "execution_count": null,
   "id": "magnetic-opening",
   "metadata": {},
   "outputs": [],
   "source": [
    "# ImportError: IProgress not found. Please update jupyter and ipywidgets.\n",
    "# but I think this still succeeeds\n",
    "job.download_files()"
   ]
  },
  {
   "cell_type": "code",
   "execution_count": null,
   "id": "warming-plenty",
   "metadata": {},
   "outputs": [],
   "source": [
    "!ls -ltrh"
   ]
  },
  {
   "cell_type": "markdown",
   "id": "other-story",
   "metadata": {},
   "source": [
    "## Process multiple pairs in batch mode"
   ]
  },
  {
   "cell_type": "code",
   "execution_count": null,
   "id": "organized-british",
   "metadata": {},
   "outputs": [],
   "source": [
    "# with progress bar\n",
    "#from tqdm.auto import tqdm \n",
    "\n",
    "#insar_jobs = sdk.Batch()\n",
    "#for reference in tqdm(granules):\n",
    "#    neighbors_metadata = asf_search.get_nearest_neighbors(reference, max_neighbors=2)\n",
    "#    for secondary_metadata in neighbors_metadata:\n",
    "#        insar_jobs += hyp3.submit_insar_job(reference, secondary_metadata['granuleName'], name='insar-example')\n",
    "#print(insar_jobs)"
   ]
  },
  {
   "cell_type": "code",
   "execution_count": null,
   "id": "occupied-arnold",
   "metadata": {},
   "outputs": [],
   "source": [
    "# Can also submit jobs via web interface # Can also visit https://hyp3.asf.alaska.edu/pending_products \n",
    "# Which then shows logs that can be sorted into 'submitted, failed, etc...'"
   ]
  }
 ],
 "metadata": {
  "kernelspec": {
   "display_name": "Python 3 (ipykernel)",
   "language": "python",
   "name": "python3"
  },
  "language_info": {
   "codemirror_mode": {
    "name": "ipython",
    "version": 3
   },
   "file_extension": ".py",
   "mimetype": "text/x-python",
   "name": "python",
   "nbconvert_exporter": "python",
   "pygments_lexer": "ipython3",
   "version": "3.9.6"
  }
 },
 "nbformat": 4,
 "nbformat_minor": 5
}
