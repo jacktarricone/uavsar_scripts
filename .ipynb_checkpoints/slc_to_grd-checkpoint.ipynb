{
 "cells": [
  {
   "cell_type": "code",
   "execution_count": 1,
   "id": "2a521be9",
   "metadata": {},
   "outputs": [],
   "source": [
    "#geocoding slc stack data to to the ground "
   ]
  },
  {
   "cell_type": "code",
   "execution_count": 3,
   "id": "e4ceabfc",
   "metadata": {},
   "outputs": [],
   "source": [
    "# beforing importing, you'll need to install these packages to the conda environment the notebook is running on\n",
    "\n",
    "import os\n",
    "import re\n",
    "import codecs\n",
    "import rasterio as rio\n",
    "import numpy\n",
    "import matplotlib\n",
    "from matplotlib import pyplot as plt\n",
    "import glob\n",
    "import subprocess\n",
    "from osgeo import gdal\n",
    "import rioxarray\n",
    "import hvplot\n",
    "from rasterio.plot import show # plotting raster data\n",
    "from rasterio.plot import show_hist #histograms of raster data"
   ]
  },
  {
   "cell_type": "code",
   "execution_count": 4,
   "id": "a107059d",
   "metadata": {},
   "outputs": [],
   "source": [
    "os.chdir('/Users/jacktarricone/warp_test/')"
   ]
  },
  {
   "cell_type": "code",
   "execution_count": 5,
   "id": "3376da5c",
   "metadata": {},
   "outputs": [],
   "source": [
    "dem_path = \"/Users/jacktarricone/warp_test/alamos_35915_20005-003_20008-000_0007d_s01_L090HH_01.hgt.grd.tiff\""
   ]
  },
  {
   "cell_type": "code",
   "execution_count": 6,
   "id": "fc3b03e9",
   "metadata": {},
   "outputs": [],
   "source": [
    "dem = gdal.Open(dem_path)"
   ]
  },
  {
   "cell_type": "code",
   "execution_count": 7,
   "id": "7403dc0e",
   "metadata": {},
   "outputs": [
    {
     "name": "stdout",
     "output_type": "stream",
     "text": [
      "1\n",
      "4713\n",
      "7795\n",
      "Driver: GTiff/GeoTIFF\n",
      "Files: /Users/jacktarricone/warp_test/alamos_35915_20005-003_20008-000_0007d_s01_L090HH_01.hgt.grd.tiff\n",
      "Size is 4713, 7795\n",
      "Coordinate System is:\n",
      "GEOGCRS[\"WGS 84\",\n",
      "    DATUM[\"World Geodetic System 1984\",\n",
      "        ELLIPSOID[\"WGS 84\",6378137,298.257223563,\n",
      "            LENGTHUNIT[\"metre\",1]]],\n",
      "    PRIMEM[\"Greenwich\",0,\n",
      "        ANGLEUNIT[\"degree\",0.0174532925199433]],\n",
      "    CS[ellipsoidal,2],\n",
      "        AXIS[\"geodetic latitude (Lat)\",north,\n",
      "            ORDER[1],\n",
      "            ANGLEUNIT[\"degree\",0.0174532925199433]],\n",
      "        AXIS[\"geodetic longitude (Lon)\",east,\n",
      "            ORDER[2],\n",
      "            ANGLEUNIT[\"degree\",0.0174532925199433]],\n",
      "    ID[\"EPSG\",4326]]\n",
      "Data axis to CRS axis mapping: 2,1\n",
      "Origin = (-106.566775000000007,36.121805999999999)\n",
      "Pixel Size = (0.000055560000000,-0.000055560000000)\n",
      "Metadata:\n",
      "  AREA_OR_POINT=Area\n",
      "  TIFFTAG_RESOLUTIONUNIT=1 (unitless)\n",
      "  TIFFTAG_XRESOLUTION=1\n",
      "  TIFFTAG_YRESOLUTION=1\n",
      "Image Structure Metadata:\n",
      "  COMPRESSION=LZW\n",
      "  INTERLEAVE=BAND\n",
      "Corner Coordinates:\n",
      "Upper Left  (-106.5667750,  36.1218060) (106d34' 0.39\"W, 36d 7'18.50\"N)\n",
      "Lower Left  (-106.5667750,  35.6887158) (106d34' 0.39\"W, 35d41'19.38\"N)\n",
      "Upper Right (-106.3049207,  36.1218060) (106d18'17.71\"W, 36d 7'18.50\"N)\n",
      "Lower Right (-106.3049207,  35.6887158) (106d18'17.71\"W, 35d41'19.38\"N)\n",
      "Center      (-106.4358479,  35.9052609) (106d26' 9.05\"W, 35d54'18.94\"N)\n",
      "Band 1 Block=4713x1 Type=Float32, ColorInterp=Gray\n",
      "\n"
     ]
    }
   ],
   "source": [
    "print(dem.RasterCount) # Number of Bands\n",
    "print(dem.RasterXSize) # Number of Pixels\n",
    "print(dem.RasterYSize)\n",
    "print(gdal.Info(dem))"
   ]
  },
  {
   "cell_type": "code",
   "execution_count": null,
   "id": "c23bf9b2",
   "metadata": {},
   "outputs": [],
   "source": [
    "vrt_options = gdal.BuildVRTOptions(resampleAlg='cubic', addAlpha=True)\n",
    "my_vrt = gdal.BuildVRT('my.vrt', ['one.tif', 'two.tif'], options=vrt_options)\n",
    "my_vrt = None"
   ]
  },
  {
   "cell_type": "code",
   "execution_count": 9,
   "id": "54146b10",
   "metadata": {},
   "outputs": [],
   "source": [
    "folder = \"/Users/jacktarricone/warp_test/\"\n",
    "data_to_process = glob.glob(os.path.join(folder, '*.lkv')) # list all .grd files\n",
    "for data_path in data_to_process: # loop to open and translate .grd to .tiff, and save .tiffs using gdal\n",
    "    raster_dataset = gdal.Open(data_path, gdal.GA_ReadOnly)\n",
    "    raster = gdal.Translate(os.path.join(folder, os.path.basename(data_path) + '.tiff'), raster_dataset, format = 'Gtiff', outputType = gdal.GDT_Float64)"
   ]
  },
  {
   "cell_type": "code",
   "execution_count": null,
   "id": "47311593",
   "metadata": {},
   "outputs": [],
   "source": [
    "ds = gdal.Warp('up_warp_test.tif', infile, dstSRS='EPSG:4326',\n",
    "               outputType=gdal.GDT_Float32, xRes=0.00892857142857143, yRes=0.00892857142857143)\n",
    "ds = None"
   ]
  },
  {
   "cell_type": "code",
   "execution_count": null,
   "id": "5df4a086",
   "metadata": {},
   "outputs": [],
   "source": [
    "kwargs = {'format': 'GTiff', 'geoloc': True}\n",
    "ds = gdal.Warp('C:/test/MYD09.A2011093.0410.006.2015217030905.tif', 'C:/test/tel.vrt', **kwargs)\n",
    "del ds"
   ]
  },
  {
   "cell_type": "code",
   "execution_count": null,
   "id": "71b2177f",
   "metadata": {},
   "outputs": [],
   "source": [
    "kwargs = {'format': 'GTiff', 'geoloc': True}\n",
    "ds = gdal.Warp('C:/test/MYD09.A2011093.0410.006.2015217030905.tif', 'C:/test/tel.vrt', **kwargs)\n",
    "del ds"
   ]
  }
 ],
 "metadata": {
  "kernelspec": {
   "display_name": "Python [conda env:test_env]",
   "language": "python",
   "name": "conda-env-test_env-py"
  },
  "language_info": {
   "codemirror_mode": {
    "name": "ipython",
    "version": 3
   },
   "file_extension": ".py",
   "mimetype": "text/x-python",
   "name": "python",
   "nbconvert_exporter": "python",
   "pygments_lexer": "ipython3",
   "version": "3.8.10"
  }
 },
 "nbformat": 4,
 "nbformat_minor": 5
}
